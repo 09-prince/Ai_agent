{
 "cells": [
  {
   "cell_type": "markdown",
   "metadata": {},
   "source": [
    "## Import Library"
   ]
  },
  {
   "cell_type": "code",
   "execution_count": 55,
   "metadata": {},
   "outputs": [],
   "source": [
    "from langchain_community.document_loaders import WebBaseLoader\n",
    "from langchain_community.vectorstores import FAISS\n",
    "from langchain_community.embeddings import OllamaEmbeddings\n",
    "from langchain_community.llms import Ollama\n",
    "from langchain_core.prompts import ChatPromptTemplate\n",
    "from langchain.text_splitter import RecursiveCharacterTextSplitter\n",
    "import os\n",
    "from IPython.display import display\n",
    "from IPython.display import Markdown\n",
    "import requests \n",
    "from bs4 import BeautifulSoup"
   ]
  },
  {
   "cell_type": "markdown",
   "metadata": {},
   "source": [
    "## WebBasedLoader"
   ]
  },
  {
   "cell_type": "code",
   "execution_count": 56,
   "metadata": {},
   "outputs": [
    {
     "name": "stdout",
     "output_type": "stream",
     "text": [
      "Fetching data for: LEARN SCRATCH PROGRAMING (https://brainlox.com/courses/4f629d96-5ed9-4302-ae0e-3479c543a49e)\n",
      "Fetching data for: LEARN CLOUD COMPUTING BASICS-AWS (https://brainlox.com/courses/872d1cb6-8469-4797-b267-8c41837b10e2)\n",
      "Fetching data for: LEARN MOBILE DEVELOPMENT (https://brainlox.com/courses/2cf11f62-6452-41f1-9b42-303fb371b873)\n",
      "Fetching data for: LEARN CORE JAVA PROGRAMMING ONLINE (https://brainlox.com/courses/be32e068-edca-4b41-96ee-4839de6aaebb)\n",
      "Fetching data for: LEARN ROBOTICS (https://brainlox.com/courses/0deafb39-3208-42db-93e3-bd69f8562f82)\n",
      "Fetching data for: LEARN JAVASCRIPT (https://brainlox.com/courses/fc9e2faf-dbe1-47bf-994c-f566a9ad3b42)\n",
      "Fetching data for: LEARN NODE JS (https://brainlox.com/courses/b0f2428a-c1c0-4def-8ac2-692a2d51a5b4)\n",
      "Fetching data for: LEARN CLOUD COMPUTING ADVANCE-AWS (https://brainlox.com/courses/e0edfcf8-9e0f-4c7a-bc90-3000822924e2)\n",
      "Fetching data for: PYTHON PROGRAMMING-BEGINNER (https://brainlox.com/courses/fc29b015-962f-41fc-bc93-181d3ed87842)\n",
      "Fetching data for: Roblox Programming For Beginners (https://brainlox.com/courses/fe8f5696-eb0e-48a0-a505-147e9c502b65)\n",
      "Fetching data for: PYTHON PROGRAMMING-INTERMEDIATE (https://brainlox.com/courses/9101883f-00af-48f7-949a-36cfc60ecfcf)\n",
      "Fetching data for: PYTHON PROGRAMMING-ADVANCE (https://brainlox.com/courses/f9f7b907-5f4f-472d-a7e1-d44d38255a42)\n",
      "Fetching data for: PYTHON PROGRAMMING GROUP CLASSES - BEGINNER (https://brainlox.com/courses/cfcf2aa4-e220-4ce7-844e-563ebfaa98bd)\n",
      "Fetching data for: Advanced Roblox Scripting Workshop (https://brainlox.com/courses/c5e8d5e8-58cb-4836-94e4-51314ffba4f3)\n",
      "Fetching data for: Robotics Adventure Awaits:Join Our Summer Camp for Young Tech Wizards! (https://brainlox.com/courses/cd8e693c-c6a7-4dca-aeb1-4b7cf1dde495)\n",
      "Fetching data for: Java Project-Based Course (https://brainlox.com/courses/6a0fc4c9-2074-4854-ac31-c7dfad9ed932)\n",
      "Fetching data for: Artificial Intelligence Adventures: Building AI Chatbot Like Chatgpt (For Kids) (https://brainlox.com/courses/51890aee-163e-4ef7-86ff-fe0d6acba7e1)\n",
      "Fetching data for: Python Playground: Create a Hangman Game (https://brainlox.com/courses/c4bdeda0-9565-4073-9eeb-67f4a79e9ec7)\n",
      "Fetching data for: Scratch Playground: Create a Maze Game! (https://brainlox.com/courses/cc34d7ec-62ae-4018-b75e-207df98a4300)\n",
      "Fetching data for: Artificial Intelligence Essentials: Summer Bootcamp (https://brainlox.com/courses/0544dc35-181e-4e75-b26d-69393de68022)\n",
      "Fetching data for: Time Mastery Camp: AI for Jobs, Business, Careers (https://brainlox.com/courses/8ca45c22-2dae-4c21-840c-8c9a177d09b3)\n",
      "Fetching data for: Build Your Own Theme Park in Roblox (https://brainlox.com/courses/5d6b48ea-641e-4707-b7cf-c4f270789c9e)\n",
      "Fetching data for: Java Coding Summer Camp for Young Minds (https://brainlox.com/courses/7ef0ff36-cf58-4ce7-a010-b6bc7350d78a)\n",
      "Fetching data for: AI Camp for Entrepreneurs: Build Business Success (https://brainlox.com/courses/72423503-2e09-4404-92f5-48292dda42e3)\n",
      "Fetching data for: ChatGPT Boot Camp: Basics & Best Uses (https://brainlox.com/courses/24e3bb16-bc23-4e6e-a74c-1ed32005cf0f)\n",
      "Fetching data for: Create-A-Bot: A Project-Based Robotics Exploration (https://brainlox.com/courses/31e70d66-efd5-44fc-929c-7de0e524624b)\n",
      "Fetching data for: Java & Proramming (https://brainlox.com/courses/89d301ea-ff81-4224-8d38-a35e8575bffd)\n",
      "Fetching data for: Chatbot Creators: Design a ChatGPT-like AI (https://brainlox.com/courses/1af061fc-0890-40ac-98ae-01285283c5ff)\n",
      "Fetching data for: Web Development from scratch (https://brainlox.com/courses/37b3b505-f8ca-4fd6-92e1-56da829f1805)\n",
      "Fetching data for: Summer Camp: Introduction to Python (https://brainlox.com/courses/9829d760-3d63-456a-a1d3-25b96e554819)\n",
      "Fetching data for: AI Secrets Revealed: Master Productivity Hacks That Will Blow Your Mind! (For Kids) (https://brainlox.com/courses/af72f1d6-ee1b-48ba-a217-30985c593bb5)\n",
      "Fetching data for: Summer Bootcamp with JavaScript: Real Projects, Real Results (https://brainlox.com/courses/189a9ef3-be9d-4b42-a09c-75665fa36e3e)\n",
      "Fetching data for: AI Disruption: Top Entrepreneurs Harnessing AI for Unprecedented Success! (For Kids) (https://brainlox.com/courses/88ac0ed1-e388-41c9-a1b4-bd82beb52c10)\n",
      "Fetching data for: The AI Writer's Masterclass: Innovation and Inspiration in Creative Writing! (For Kids) (https://brainlox.com/courses/7ad05239-54cb-4cbb-8cec-4065512db97a)\n",
      "Fetching data for: Web Development Pro: Intermediate Level (https://brainlox.com/courses/7f20a234-094c-457a-b2b4-8712bd8f0616)\n",
      "Fetching data for: Scratch Playground: Create a Scroller Game! (https://brainlox.com/courses/03549fee-5478-4352-b146-f2a2c8561191)\n",
      "Fetching data for: AI Pro: Creative Writing Camp for Adults (https://brainlox.com/courses/94c549e6-ebca-4bbe-b1a8-17beda62b6d5)\n",
      "Fetching data for: Python Playground: Create Your Own Snake Game (https://brainlox.com/courses/5ba67aa9-b272-42ec-88d2-81cd5af6c643)\n",
      "Fetching data for: Build your own Calculator using Python Bootcamp for kids (https://brainlox.com/courses/848a2ee8-b9ce-464a-bcbc-78fcdd67b9dd)\n",
      "Fetching data for: Python Playground: Create a Tic Tac Toe Game (https://brainlox.com/courses/4d6f6d90-a53f-4792-a491-1697bb384d57)\n",
      "Fetching data for: Scratch Playground: Create a Flappy Bird Game! (https://brainlox.com/courses/d6e5c1ea-f3bf-4435-a1c6-7566aef9ddc2)\n",
      "Fetching data for: HTML, CSS, JavaScript: 7-Day Summer Bootcamp (https://brainlox.com/courses/3cdb1ba6-7b9d-4a04-8ba4-bfffbef9a77f)\n",
      "Fetching data for: Hands-on Java: Project-based Learning for Coding Novices (https://brainlox.com/courses/6ffc967e-8caf-4540-b0f3-c1e684195d03)\n",
      "Fetching data for: Python Playground: Create a Memory Game (https://brainlox.com/courses/8c6151e3-3141-4a64-8fe0-d5df205e750d)\n",
      "Fetching data for: Summer Bootcamp: 5-Day Scratch Programming for Beginners (https://brainlox.com/courses/db80cdd0-d396-482a-913e-1fc81c8d9ac4)\n",
      "Fetching data for: 5-Day Summer Camp: Python for Beginners (https://brainlox.com/courses/9e2df5e5-3dc5-4c87-b385-f464642d8562)\n",
      "Fetching data for: Build a Text analyzer using Python Bootcamp for kids (https://brainlox.com/courses/0884af64-fb1b-4c15-9850-3315b99fd92d)\n",
      "Fetching data for: Scratch Playground : Create a Platformer Game! (https://brainlox.com/courses/4b7a6968-f8f6-4f98-bd8d-357b71ca9496)\n",
      "Fetching data for: Introduction to Artificial Intelligence! (https://brainlox.com/courses/9e0490f4-e45b-41df-858c-34a4eba5836b)\n",
      "Fetching data for: Python Playground: Create a Rock, Paper, Scissors Game (https://brainlox.com/courses/fd86f75c-b1b5-450d-98ee-7e3ad0b1e357)\n",
      "Fetching data for: AI in Stock Market Success: Career Growth Camp !! (https://brainlox.com/courses/c110330f-d41d-48fe-8433-88e7527c4d77)\n",
      "Fetching data for: From Beginner to AI Pro: Kickstart Your Journey With Artificial Intelligence! (For Kids) (https://brainlox.com/courses/1164fafc-7e5b-4126-b1d6-ce228e266345)\n",
      "Fetching data for: Game development using python (https://brainlox.com/courses/a06e18a8-3e06-4777-85c5-fb22b35ea46d)\n",
      "Fetching data for: Build a Image manipulator using Python Bootcamp for kids (https://brainlox.com/courses/50986fd0-ea11-4d2e-971f-5fb88fb81542)\n",
      "Fetching data for: Build a Weather app using Python Bootcamp for kids (https://brainlox.com/courses/5f754053-de57-4f46-9bb3-b11d5c9e42e0)\n",
      "Fetching data for: Build Your Own Roblox Battle Arena (https://brainlox.com/courses/f6853a9e-84ce-40c6-9362-00fcf701e459)\n",
      "Fetching data for: The Millionaire's AI Playbook: Learn How to Predict Stock Prices! (For Kids) (https://brainlox.com/courses/931b56d8-4192-43e1-ba10-0ce6f94cb2ed)\n",
      "Fetching data for: Machine Learning: 7-Day Project-Based Summer Camp (https://brainlox.com/courses/1db857a4-f374-49fb-af9c-0f6d2e5ada45)\n",
      "Fetching data for: AI Pro Camp: Career Growth Catalyst (https://brainlox.com/courses/7f24d6b5-1645-4184-83d4-6deab75b13f1)\n",
      "Fetching data for: Minecraft Java Programming for Beginners (https://brainlox.com/courses/0bc0c9fa-9749-4129-91de-c286a474e9b3)\n",
      "Fetching data for: Build a Chatbot using Python Bootcamp for kids (https://brainlox.com/courses/5abad7b0-953d-4527-8aa9-4d3ca80ff500)\n",
      "Fetching data for: Build a Password generator using Python Bootcamp for kids (https://brainlox.com/courses/7544e04d-82d5-447e-9935-c784455c2de3)\n",
      "Fetching data for: Scratch Playground: Create a Space Game! (https://brainlox.com/courses/7472b97e-7b73-42dc-b0ef-972832e7bad5)\n",
      "Fetching data for: Create Your Own Roblox Obstacle Course (https://brainlox.com/courses/5a45c3b4-3f6e-48dc-ab92-71a1cd38db28)\n",
      "Fetching data for: Java Minecraft Creative or Survival Mode (https://brainlox.com/courses/ebe89ac6-5b3a-479d-adab-d6e2d5297773)\n",
      "Fetching data for: AI Camp for Jobs & Business:Build Your own ChatGPT (https://brainlox.com/courses/eab79907-4de4-4413-bb44-a92e253aa5c6)\n",
      "Fetching data for: HTML, CSS, JavaScript Essentials: 5-Day Coding Bootcamp (https://brainlox.com/courses/2bf6f84c-f096-459a-a8fb-e629d263f109)\n"
     ]
    }
   ],
   "source": [
    "BASE_URL = \"https://brainlox.com\"\n",
    "COURSES_URL = f\"{BASE_URL}/courses\"\n",
    "\n",
    "def get_course_links():\n",
    "    \"\"\"Scrapes course list page to extract course URLs\"\"\"\n",
    "    response = requests.get(COURSES_URL)\n",
    "    if response.status_code != 200:\n",
    "        print(f\"Failed to fetch courses. Status code: {response.status_code}\")\n",
    "        return []\n",
    "\n",
    "    soup = BeautifulSoup(response.content, 'html.parser')\n",
    "    courses = []\n",
    "\n",
    "    for card in soup.find_all('div', class_='single-courses-box'):\n",
    "        try:\n",
    "            course_name = card.find('h3').get_text(strip=True)\n",
    "            course_details = card.find('p').get_text(strip=True)\n",
    "            details_link = card.find('a', class_=\"BookDemo-btn\", href=True)['href']\n",
    "            full_url = BASE_URL + details_link\n",
    "\n",
    "            courses.append({\n",
    "                'name': course_name,\n",
    "                'description': course_details,\n",
    "                'url': full_url\n",
    "            })\n",
    "        except AttributeError:\n",
    "            continue\n",
    "\n",
    "    return courses\n",
    "\n",
    "def load_course_data(url):\n",
    "    \"\"\"Loads course page data using WebBaseLoader from LangChain\"\"\"\n",
    "    loader = WebBaseLoader(url)\n",
    "    documents = loader.load()\n",
    "    return documents\n",
    "\n",
    "def fetch_all_course_data():\n",
    "    \"\"\"Fetches all course details and loads page content\"\"\"\n",
    "    courses = get_course_links()\n",
    "    for course in courses:\n",
    "        print(f\"Fetching data for: {course['name']} ({course['url']})\")\n",
    "        course['content'] = load_course_data(course['url'])\n",
    "    \n",
    "    return courses\n",
    "\n",
    "# Run script\n",
    "courses_data = fetch_all_course_data()"
   ]
  },
  {
   "cell_type": "code",
   "execution_count": 57,
   "metadata": {},
   "outputs": [
    {
     "name": "stdout",
     "output_type": "stream",
     "text": [
      "Created and saved new FAISS index.\n",
      "✅ Courses stored in FAISS successfully!\n"
     ]
    }
   ],
   "source": [
    "import os\n",
    "from langchain_community.vectorstores import FAISS\n",
    "from langchain_community.embeddings import OllamaEmbeddings\n",
    "from langchain.text_splitter import RecursiveCharacterTextSplitter\n",
    "from langchain_core.documents import Document\n",
    "\n",
    "\n",
    "FAISS_INDEX_PATH = \"faiss_courses_index\"\n",
    "\n",
    "def create_vector_store(courses):\n",
    "    \"\"\"Converts course data to embeddings and stores in FAISS\"\"\"\n",
    "    embeddings = OllamaEmbeddings(model=\"llama3.2:latest\")\n",
    "    text_splitter = RecursiveCharacterTextSplitter(chunk_size=1000, chunk_overlap=200)\n",
    "\n",
    "    # Convert course data into LangChain Document format\n",
    "    docs = []\n",
    "    for course in courses:\n",
    "        content_text = course['content'][0].page_content if course['content'] else \"\"\n",
    "        doc = Document(\n",
    "            page_content=f\"Course Name: {course['name']}\\nDescription: {course['description']}\\n{content_text}\",\n",
    "            metadata={\"url\": course[\"url\"]}\n",
    "        )\n",
    "        docs.append(doc)\n",
    "\n",
    "    # Split long documents\n",
    "    split_docs = text_splitter.split_documents(docs)\n",
    "\n",
    "    # Create or Load FAISS vector store\n",
    "    if os.path.exists(FAISS_INDEX_PATH):\n",
    "        vector_store = FAISS.load_local(FAISS_INDEX_PATH, embeddings)\n",
    "        print(\"Loaded existing FAISS index.\")\n",
    "    else:\n",
    "        vector_store = FAISS.from_documents(split_docs, embeddings)\n",
    "        vector_store.save_local(FAISS_INDEX_PATH)\n",
    "        print(\"Created and saved new FAISS index.\")\n",
    "\n",
    "    return vector_store\n",
    "\n",
    "# Run storage function\n",
    "vector_store = create_vector_store(courses_data)\n",
    "print(\"✅ Courses stored in FAISS successfully!\")"
   ]
  },
  {
   "cell_type": "markdown",
   "metadata": {},
   "source": [
    "## Prompt Tempelate"
   ]
  },
  {
   "cell_type": "code",
   "execution_count": 58,
   "metadata": {},
   "outputs": [],
   "source": [
    "# from langchain_core.prompts import ChatPromptTemplate\n",
    "# prompt = ChatPromptTemplate.from_template(\"\"\"\n",
    "# Answer the following question based only on the provided context.\n",
    "# Thing step by step before providing a detailed answer.\n",
    "# I will tip you $1000 if the use find the answer helpful.\n",
    "# <context>\n",
    "# {context}\n",
    "# </context>\n",
    "# Question: {input}\n",
    "# \"\"\")\n",
    "\n",
    "from langchain_core.prompts import ChatPromptTemplate\n",
    "\n",
    "prompt = ChatPromptTemplate.from_template(\"\"\"\n",
    "You are an AI chatbot specializing in answering questions about technical courses.\n",
    "Use only the provided context to generate informative, precise, and well-structured responses.\n",
    "Think step by step before providing a detailed answer.\n",
    "If the user finds your response helpful, a $1000 tip is promised.\n",
    "\n",
    "<context>\n",
    "{context}\n",
    "</context>\n",
    "\n",
    "Question: {input}\n",
    "\n",
    "Provide a clear, concise, and relevant answer based on the given context.\n",
    "\"\"\")\n"
   ]
  },
  {
   "cell_type": "code",
   "execution_count": 59,
   "metadata": {},
   "outputs": [],
   "source": [
    "from langchain_community.llms import Ollama\n",
    "llm = Ollama(model=\"llama3.2:latest\")\n",
    "llm\n",
    "\n",
    "\n",
    "## Chain Introduction\n",
    "## Create Stuff Document Chain\n",
    "from langchain.chains.combine_documents import create_stuff_documents_chain\n",
    "\n",
    "documents_chain = create_stuff_documents_chain(llm, prompt)\n"
   ]
  },
  {
   "cell_type": "code",
   "execution_count": 60,
   "metadata": {},
   "outputs": [
    {
     "data": {
      "text/plain": [
       "VectorStoreRetriever(tags=['FAISS', 'OllamaEmbeddings'], vectorstore=<langchain_community.vectorstores.faiss.FAISS object at 0x000001FF214A6840>, search_kwargs={})"
      ]
     },
     "execution_count": 60,
     "metadata": {},
     "output_type": "execute_result"
    }
   ],
   "source": [
    "\"\"\"A retriever is an interface that returns documents given an unstructured query.\n",
    " It is more general than a vector store. A retriever does not need to be able to store\n",
    " documents, only to return (or retrieve) them. Vector stores can be used as\n",
    "   the backbone of a retriever, but there are other types of retrievers as well.\"\"\"\n",
    "\n",
    "\n",
    "retriever = vector_store.as_retriever()\n",
    "retriever"
   ]
  },
  {
   "cell_type": "code",
   "execution_count": 61,
   "metadata": {},
   "outputs": [],
   "source": [
    "#How to create\n",
    "from langchain.chains import create_retrieval_chain\n",
    "retrieval_chain = create_retrieval_chain(retriever, documents_chain)"
   ]
  },
  {
   "cell_type": "code",
   "execution_count": 70,
   "metadata": {},
   "outputs": [],
   "source": [
    "responce = retrieval_chain.invoke({\"input\":\"details LEARN CORE JAVA PROGRAMMING ONLINE\"})"
   ]
  },
  {
   "cell_type": "code",
   "execution_count": 71,
   "metadata": {},
   "outputs": [
    {
     "data": {
      "text/plain": [
       "'Based on the provided context, here\\'s a detailed response:\\n\\nThe LEARN CORE JAVA PROGRAMMING ONLINE course is designed to introduce students to the basics of Java programming. As stated in the course description, \"Java is a very popular high-level, class-based, object-oriented programming language that is designed to have as few implementation dependencies as possible.\" This means that Java applications can run on any platform that supports Java without requiring recompilation.\\n\\nThe course covers various topics, including:\\n\\n* Introduction to Java programming and its relation to Minecraft\\n* Advanced topics in Minecraft Java programming\\n\\nThroughout the six-week course, students will learn the basics of Java programming while creating Minecraft mods and plugins. This hands-on approach allows learners to apply theoretical knowledge to real-world projects, making the learning experience more engaging and effective.\\n\\nBy the end of this course, students can expect to gain a solid understanding of Java programming principles and be able to create their own Minecraft mods and plugins.\\n\\nWould you like to know more about Java or is there something specific you\\'d like me to elaborate on?'"
      ]
     },
     "execution_count": 71,
     "metadata": {},
     "output_type": "execute_result"
    }
   ],
   "source": [
    "(responce['answer'])"
   ]
  },
  {
   "cell_type": "code",
   "execution_count": 72,
   "metadata": {},
   "outputs": [
    {
     "data": {
      "text/markdown": [
       "> Based on the provided context, here's a detailed response:\n",
       "> \n",
       "> The LEARN CORE JAVA PROGRAMMING ONLINE course is designed to introduce students to the basics of Java programming. As stated in the course description, \"Java is a very popular high-level, class-based, object-oriented programming language that is designed to have as few implementation dependencies as possible.\" This means that Java applications can run on any platform that supports Java without requiring recompilation.\n",
       "> \n",
       "> The course covers various topics, including:\n",
       "> \n",
       ">  * Introduction to Java programming and its relation to Minecraft\n",
       ">  * Advanced topics in Minecraft Java programming\n",
       "> \n",
       "> Throughout the six-week course, students will learn the basics of Java programming while creating Minecraft mods and plugins. This hands-on approach allows learners to apply theoretical knowledge to real-world projects, making the learning experience more engaging and effective.\n",
       "> \n",
       "> By the end of this course, students can expect to gain a solid understanding of Java programming principles and be able to create their own Minecraft mods and plugins.\n",
       "> \n",
       "> Would you like to know more about Java or is there something specific you'd like me to elaborate on?"
      ],
      "text/plain": [
       "<IPython.core.display.Markdown object>"
      ]
     },
     "execution_count": 72,
     "metadata": {},
     "output_type": "execute_result"
    }
   ],
   "source": [
    "import textwrap\n",
    "def to_markdown(text):\n",
    "    text = text.replace(\"*\", \" *\")\n",
    "    return Markdown(textwrap.indent(text, '> ', predicate=lambda _:True))\n",
    "to_markdown(responce['answer'])"
   ]
  }
 ],
 "metadata": {
  "kernelspec": {
   "display_name": "Python 3",
   "language": "python",
   "name": "python3"
  },
  "language_info": {
   "codemirror_mode": {
    "name": "ipython",
    "version": 3
   },
   "file_extension": ".py",
   "mimetype": "text/x-python",
   "name": "python",
   "nbconvert_exporter": "python",
   "pygments_lexer": "ipython3",
   "version": "3.12.3"
  }
 },
 "nbformat": 4,
 "nbformat_minor": 2
}
